{
  "nbformat": 4,
  "nbformat_minor": 0,
  "metadata": {
    "colab": {
      "provenance": [],
      "authorship_tag": "ABX9TyPydlinKfkPsoT2+kLVQE0r",
      "include_colab_link": true
    },
    "kernelspec": {
      "name": "python3",
      "display_name": "Python 3"
    },
    "language_info": {
      "name": "python"
    }
  },
  "cells": [
    {
      "cell_type": "markdown",
      "metadata": {
        "id": "view-in-github",
        "colab_type": "text"
      },
      "source": [
        "<a href=\"https://colab.research.google.com/github/raunakyadav92/Humanbodyquiz/blob/main/humanbodyquiz.ipynb\" target=\"_parent\"><img src=\"https://colab.research.google.com/assets/colab-badge.svg\" alt=\"Open In Colab\"/></a>"
      ]
    },
    {
      "cell_type": "code",
      "execution_count": null,
      "metadata": {
        "id": "DpH9ZqpzSCjX"
      },
      "outputs": [],
      "source": [
        "questions = [\n",
        "    {\n",
        "        \"question\": \"Which organ pumps blood throughout the body?\",\n",
        "        \"options\": [\"Lungs\", \"Kidney\", \"Heart\", \"Liver\"],\n",
        "        \"answer\": \"Heart\"\n",
        "    },\n",
        "    {\n",
        "        \"question\": \"Which organ is responsible for breathing?\",\n",
        "        \"options\": [\"Lungs\", \"Stomach\", \"Brain\", \"Liver\"],\n",
        "        \"answer\": \"Lungs\"\n",
        "    },\n",
        "    {\n",
        "        \"question\": \"Which organ controls the body functions?\",\n",
        "        \"options\": [\"Heart\", \"Brain\", \"Kidney\", \"Lungs\"],\n",
        "        \"answer\": \"Brain\"\n",
        "    },\n",
        "    {\n",
        "        \"question\": \"Which organ filters blood in the body?\",\n",
        "        \"options\": [\"Liver\", \"Kidney\", \"Heart\", \"Lungs\"],\n",
        "        \"answer\": \"Kidney\"\n",
        "    },\n",
        "    {\n",
        "        \"question\": \"Which organ helps in digestion by producing bile?\",\n",
        "        \"options\": [\"Heart\", \"Brain\", \"Liver\", \"Lungs\"],\n",
        "        \"answer\": \"Liver\"\n",
        "    }\n",
        "]\n",
        "\n",
        "score = 0\n",
        "\n",
        "print(\"\\n🧠 Welcome to the Human Body Quiz! 🩺\\n\")\n",
        "\n",
        "for idx, q in enumerate(questions, 1):\n",
        "    print(f\"Q{idx}: {q['question']}\")\n",
        "    for opt_idx, option in enumerate(q[\"options\"], 1):\n",
        "        print(f\"{opt_idx}. {option}\")\n",
        "    user_ans = input(\"Your Answer (1-4): \")\n",
        "\n",
        "    if q[\"options\"][int(user_ans) - 1].lower() == q[\"answer\"].lower():\n",
        "        print(\"✅ Correct!\\n\")\n",
        "        score += 1\n",
        "    else:\n",
        "        print(f\"❌ Wrong! Correct Answer: {q['answer']}\\n\")\n",
        "\n",
        "print(f\"🏁 Your Final Score: {score}/{len(questions)}\")\n"
      ]
    }
  ]
}